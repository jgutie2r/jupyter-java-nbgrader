{
 "cells": [
  {
   "cell_type": "markdown",
   "id": "842d6531",
   "metadata": {
    "deletable": false,
    "editable": false,
    "nbgrader": {
     "cell_type": "markdown",
     "checksum": "c784cb1d947532680027124927e8d385",
     "grade": false,
     "grade_id": "cell-bff8778d97367cc6",
     "locked": true,
     "schema_version": 3,
     "solution": false,
     "task": false
    }
   },
   "source": [
    "# Generalización de un algoritmo"
   ]
  },
  {
   "cell_type": "markdown",
   "id": "8c649bed",
   "metadata": {
    "deletable": false,
    "editable": false,
    "nbgrader": {
     "cell_type": "markdown",
     "checksum": "e76c7e6531c6d5c9d823e89e3f59f6ef",
     "grade": false,
     "grade_id": "cell-82c385cd901ba06f",
     "locked": true,
     "schema_version": 3,
     "solution": false,
     "task": false
    }
   },
   "source": [
    "Dado el siguiente algoritmo:"
   ]
  },
  {
   "cell_type": "code",
   "execution_count": null,
   "id": "ebf6a07a",
   "metadata": {
    "deletable": false,
    "editable": false,
    "nbgrader": {
     "cell_type": "code",
     "checksum": "fa74129f2e5166f6d965ff1f905c42f7",
     "grade": false,
     "grade_id": "cell-7958a8b2c0d5784c",
     "locked": true,
     "schema_version": 3,
     "solution": false,
     "task": false
    }
   },
   "outputs": [],
   "source": [
    "class Contenedor{\n",
    "   private double[] datos;\n",
    "   private int contador;\n",
    "   \n",
    "   Contenedor(int cap){\n",
    "      datos = new double[cap];\n",
    "      contador=0;\n",
    "   }\n",
    "   \n",
    "   public void add(double dato){\n",
    "      datos[contador]=dato;\n",
    "      contador++;\n",
    "   }\n",
    "   public double findMax(){\n",
    "      double max=datos[0];\n",
    "      for (int i=1; i< contador; i++)\n",
    "         if (max < datos[i])\n",
    "            max = datos[i];\n",
    "      return max;\n",
    "   }\n",
    "}"
   ]
  },
  {
   "cell_type": "markdown",
   "id": "ca35cd32",
   "metadata": {
    "deletable": false,
    "editable": false,
    "nbgrader": {
     "cell_type": "markdown",
     "checksum": "d6c099821b81f54b0cd57df411a330ac",
     "grade": false,
     "grade_id": "cell-949a2a2a0f46cafb",
     "locked": true,
     "schema_version": 3,
     "solution": false,
     "task": false
    }
   },
   "source": [
    "Podemos ver que el código anterior es correcto (ya que no aparece un error al comprobar que el máximo es 10.1):"
   ]
  },
  {
   "cell_type": "code",
   "execution_count": null,
   "id": "60b7218f",
   "metadata": {
    "deletable": false,
    "editable": false,
    "nbgrader": {
     "cell_type": "code",
     "checksum": "31662fccf8dbb2d3cbb2b47c1c9f0bb5",
     "grade": false,
     "grade_id": "cell-9592974bc1366147",
     "locked": true,
     "schema_version": 3,
     "solution": false,
     "task": false
    }
   },
   "outputs": [],
   "source": [
    "%maven org.assertj:assertj-core:3.20.0\n",
    "import static org.assertj.core.api.Assertions.*;\n",
    "\n",
    "Contenedor c = new Contenedor(10);\n",
    "for (int i=0;i<10;i++)\n",
    "   c.add(1.1+i);\n",
    "\n",
    "assertThat(c.findMax()).isEqualTo(10.1);"
   ]
  },
  {
   "cell_type": "markdown",
   "id": "b371f62d",
   "metadata": {
    "deletable": false,
    "editable": false,
    "nbgrader": {
     "cell_type": "markdown",
     "checksum": "cfe4d137e17f3649d834e3150750c12a",
     "grade": false,
     "grade_id": "cell-6e7f521732d9f263",
     "locked": true,
     "schema_version": 3,
     "solution": false,
     "task": false
    }
   },
   "source": [
    "Sin embargo el código anterior no es general ya que solo funciona con datos del tipo double. Se pide reescribir la clase contenedor para que sea parametrizada y haga uso de la interfaz `Comparable<T>` para exigir requisitos al parámetro del tipo. En el constructor tendrás que poner la siguiente sentencia para iniciar el array del tipo `T[]`:\n",
    "`datos = (T[])new Comparable[cap];`"
   ]
  },
  {
   "cell_type": "code",
   "execution_count": null,
   "id": "ab138a5c",
   "metadata": {
    "deletable": false,
    "nbgrader": {
     "cell_type": "code",
     "checksum": "b26b50586d224d4b30c3bfd35fc323fa",
     "grade": false,
     "grade_id": "cell-81d65170308ddead",
     "locked": false,
     "schema_version": 3,
     "solution": true,
     "task": false
    }
   },
   "outputs": [],
   "source": [
    "// YOUR CODE HERE"
   ]
  },
  {
   "cell_type": "markdown",
   "id": "e75075a2",
   "metadata": {
    "deletable": false,
    "editable": false,
    "nbgrader": {
     "cell_type": "markdown",
     "checksum": "0577ff76c8c48821fad3cd709eab482a",
     "grade": false,
     "grade_id": "cell-931169c969e17f65",
     "locked": true,
     "schema_version": 3,
     "solution": false,
     "task": false
    }
   },
   "source": [
    "Una vez definida esa clase, podemos usarla para poder encontrar el máximo de cualquier conjunto de objetos (siempre que estos implementen a la interfaz `Comparable<T>`).\n",
    "Por ejemplo, supongamos que tenemos la siguiente clase:"
   ]
  },
  {
   "cell_type": "code",
   "execution_count": null,
   "id": "b990bdc8",
   "metadata": {
    "deletable": false,
    "editable": false,
    "nbgrader": {
     "cell_type": "code",
     "checksum": "3003b9e7993712997f381c0327ed65af",
     "grade": false,
     "grade_id": "cell-a8932f125260680d",
     "locked": true,
     "schema_version": 3,
     "solution": false,
     "task": false
    }
   },
   "outputs": [],
   "source": [
    "import java.util.*;\n",
    "\n",
    "public class BikeTour{\n",
    "   private int dia;\n",
    "   private double distancia;\n",
    "   public BikeTour(int dia, double distancia){\n",
    "      this.dia=dia;\n",
    "      this.distancia=distancia;\n",
    "   }\n",
    "   public double getDistancia(){\n",
    "      return distancia;\n",
    "   }\n",
    "   public String toString(){\n",
    "      return \"Fecha: \" + dia + \"; distancia: \"+ distancia;\n",
    "   }\n",
    "   public boolean equals(Object o){\n",
    "      BikeTour b = (BikeTour)o;\n",
    "      return ((dia==b.dia) && (distancia==b.distancia));\n",
    "   }\n",
    "}"
   ]
  },
  {
   "cell_type": "markdown",
   "id": "6bd8d754",
   "metadata": {
    "deletable": false,
    "editable": false,
    "nbgrader": {
     "cell_type": "markdown",
     "checksum": "995dab7635bb1addb22c024d6cd23da6",
     "grade": false,
     "grade_id": "cell-d78c75fd895299b5",
     "locked": true,
     "schema_version": 3,
     "solution": false,
     "task": false
    }
   },
   "source": [
    "Modifica esta clase para que se pueda insertar en el `Contenedor` desarrollado y que el criterio de comparación sea la distancia:"
   ]
  },
  {
   "cell_type": "code",
   "execution_count": null,
   "id": "ce3469dd",
   "metadata": {
    "deletable": false,
    "nbgrader": {
     "cell_type": "code",
     "checksum": "a2ae41a3d3bbf58d290bfba2f2f4bddc",
     "grade": false,
     "grade_id": "cell-c71db2a544842d93",
     "locked": false,
     "schema_version": 3,
     "solution": true,
     "task": false
    }
   },
   "outputs": [],
   "source": [
    "// YOUR CODE HERE"
   ]
  },
  {
   "cell_type": "markdown",
   "id": "2cc672f4",
   "metadata": {
    "deletable": false,
    "editable": false,
    "nbgrader": {
     "cell_type": "markdown",
     "checksum": "9b37a44f4ac58eb81ab145037e2d02e7",
     "grade": false,
     "grade_id": "cell-4704139164254428",
     "locked": true,
     "schema_version": 3,
     "solution": false,
     "task": false
    }
   },
   "source": [
    "Si has desarrollado correctamente el código de las dos clases, al ejecutar el siguiente código no deberías tener errores (cuando se comprueba el máximo):"
   ]
  },
  {
   "cell_type": "code",
   "execution_count": null,
   "id": "1ba5091b",
   "metadata": {
    "deletable": false,
    "editable": false,
    "nbgrader": {
     "cell_type": "code",
     "checksum": "f9d3a63117bd830841cdf54f67a7454a",
     "grade": false,
     "grade_id": "cell-1d1055763bcd55d3",
     "locked": true,
     "schema_version": 3,
     "solution": false,
     "task": false
    }
   },
   "outputs": [],
   "source": [
    "%maven org.assertj:assertj-core:3.20.0\n",
    "import static org.assertj.core.api.Assertions.*;\n",
    "\n",
    "Contenedor<BikeTour> c = new Contenedor<>(10);\n",
    "for (int i=0;i<10;i++)\n",
    "   c.add(new BikeTour(i,50.0+i*2));\n",
    "   \n",
    "\n",
    "\n",
    "assertThat(c.findMax()).isEqualTo(new BikeTour(9,50.0+9*2));"
   ]
  },
  {
   "cell_type": "code",
   "execution_count": null,
   "id": "29b649f1",
   "metadata": {},
   "outputs": [],
   "source": []
  }
 ],
 "metadata": {
  "kernelspec": {
   "display_name": "Java",
   "language": "java",
   "name": "java"
  },
  "language_info": {
   "codemirror_mode": "java",
   "file_extension": ".jshell",
   "mimetype": "text/x-java-source",
   "name": "Java",
   "pygments_lexer": "java",
   "version": "11.0.4+11-LTS"
  }
 },
 "nbformat": 4,
 "nbformat_minor": 5
}
